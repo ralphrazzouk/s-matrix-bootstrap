{
 "cells": [
  {
   "cell_type": "markdown",
   "metadata": {},
   "source": [
    "# Three Pion Primal Problem"
   ]
  },
  {
   "cell_type": "markdown",
   "metadata": {},
   "source": [
    "## Import Packages"
   ]
  },
  {
   "cell_type": "code",
   "execution_count": null,
   "metadata": {},
   "outputs": [],
   "source": [
    "import os\n",
    "import numpy as np\n",
    "from scipy.special import eval_legendre\n",
    "from scipy.special import lqn\n",
    "import cmath\n",
    "\n",
    "np.set_printoptions(precision=600)"
   ]
  },
  {
   "cell_type": "markdown",
   "metadata": {},
   "source": [
    "## Initialization"
   ]
  },
  {
   "cell_type": "code",
   "execution_count": 4,
   "metadata": {},
   "outputs": [
    {
     "name": "stdout",
     "output_type": "stream",
     "text": [
      "lmax = 6\n",
      "Nmax = 8\n",
      "M = 32\n",
      "Lambda = 32\n",
      "Nmax2 = 8\n",
      "lmax2 = 11\n"
     ]
    }
   ],
   "source": [
    "V = [\n",
    "    [6, 8, 32, 32, 8],\n",
    "    [6, 8, 64, 64, 8],\n",
    "    [6, 8, 200, 200, 8],\n",
    "    [8, 14, 32, 32, 14],\n",
    "    [8, 14, 64, 64, 14],\n",
    "]\n",
    "\n",
    "lmax = V[0][0]  # Number of partial waves per channel\n",
    "Nmax = V[0][1]\n",
    "M = V[0][2]\n",
    "Lambda = V[0][3]\n",
    "Nmax2 = V[0][4]\n",
    "lmax2 = 2 * lmax - 1\n",
    "\n",
    "print(\"lmax =\", lmax)\n",
    "print(\"Nmax =\", Nmax)\n",
    "print(\"M =\", M)\n",
    "print(\"Lambda =\", Lambda)\n",
    "print(\"Nmax2 =\", Nmax2)\n",
    "print(\"lmax2 =\", lmax2)"
   ]
  },
  {
   "cell_type": "markdown",
   "metadata": {},
   "source": [
    "## Basis Functions"
   ]
  },
  {
   "cell_type": "markdown",
   "metadata": {},
   "source": [
    "$$\n",
    "\\phi = \\frac{2}{\\sin^2(\\frac{\\phi}{2})} \\sin(n \\phi)\n",
    "$$\n",
    "\n",
    "\n",
    "$$\n",
    "\n",
    "$$\n",
    "\n",
    "\n",
    "$$\n",
    "\n",
    "$$\n",
    "\n",
    "\n",
    "$$\n",
    "\n",
    "$$"
   ]
  },
  {
   "cell_type": "code",
   "execution_count": null,
   "metadata": {},
   "outputs": [],
   "source": [
    "def phi(n, phi_val):\n",
    "    \"\"\"Basis function phi\"\"\"\n",
    "    return 2 / (np.sin(phi_val / 2) ** 2) * np.sin(n * phi_val)\n",
    "\n",
    "\n",
    "def zf(s):\n",
    "    \"\"\"Helper function for defining z(s)\"\"\"\n",
    "    # Note: This function needs to be defined based on your specific requirements\n",
    "    # as it wasn't provided in the original MAPLE code\n",
    "    pass\n",
    "\n",
    "\n",
    "def Phi(n, s):\n",
    "    \"\"\"Basis function Phi\"\"\"\n",
    "    return zf(s) ** n\n",
    "\n",
    "\n",
    "def Phit(n, xi):\n",
    "    \"\"\"Basis function Phit\"\"\"\n",
    "    return cmath.exp(1j * n * xi)\n",
    "\n",
    "\n",
    "def Phi0(s):\n",
    "    \"\"\"Special case of Phi for n=0\"\"\"\n",
    "    z = zf(s)\n",
    "    return z / (1 - z)\n",
    "\n",
    "\n",
    "def Phit0(xi):\n",
    "    \"\"\"Special case of Phit for n=0\"\"\"\n",
    "    exp_val = cmath.exp(1j * xi)\n",
    "    return exp_val / (1 - exp_val)\n",
    "\n",
    "\n",
    "def Phif(n, s):\n",
    "    \"\"\"Combined Phi function with special case handling\"\"\"\n",
    "    return Phi0(s) if n == 0 else Phi(n, s)\n",
    "\n",
    "\n",
    "def t1(sigma):\n",
    "    \"\"\"Helper function t1\"\"\"\n",
    "    return 4 * (1 - sigma**2)\n",
    "\n",
    "\n",
    "def Fb(n, l, u, sigma):\n",
    "    \"\"\"Implementation of Fb function\"\"\"\n",
    "    # The original MAPLE code uses diff(t1(sigma), sigma) which is -8*sigma\n",
    "    t1_diff = -8 * sigma\n",
    "    t1_val = t1(sigma)\n",
    "\n",
    "    # Calculate the argument for LegendreP\n",
    "    leg_arg = 1 + 2 * t1_val / (u**2 - 4)\n",
    "\n",
    "    return (-2 / (u**2 - 4)) * t1_diff * Phi(n, t1_val) * eval_legendre(l, leg_arg)\n",
    "\n",
    "\n",
    "def Fb0(l, u, sigma):\n",
    "    \"\"\"Implementation of Fb0 function\"\"\"\n",
    "    # Similar to Fb but uses Phi0 instead of Phi\n",
    "    t1_diff = -8 * sigma\n",
    "    t1_val = t1(sigma)\n",
    "\n",
    "    leg_arg = 1 + 2 * t1_val / (u**2 - 4)\n",
    "\n",
    "    return (-2 / (u**2 - 4)) * t1_diff * Phi0(t1_val) * eval_legendre(l, leg_arg)"
   ]
  },
  {
   "cell_type": "code",
   "execution_count": null,
   "metadata": {},
   "outputs": [],
   "source": []
  }
 ],
 "metadata": {
  "kernelspec": {
   "display_name": "Python 3",
   "language": "python",
   "name": "python3"
  },
  "language_info": {
   "codemirror_mode": {
    "name": "ipython",
    "version": 3
   },
   "file_extension": ".py",
   "mimetype": "text/x-python",
   "name": "python",
   "nbconvert_exporter": "python",
   "pygments_lexer": "ipython3",
   "version": "3.12.6"
  }
 },
 "nbformat": 4,
 "nbformat_minor": 2
}
